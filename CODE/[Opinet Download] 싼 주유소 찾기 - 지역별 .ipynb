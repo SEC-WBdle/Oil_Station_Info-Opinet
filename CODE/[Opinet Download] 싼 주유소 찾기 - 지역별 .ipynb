{
 "cells": [
  {
   "cell_type": "code",
   "execution_count": 1,
   "metadata": {
    "ExecuteTime": {
     "end_time": "2020-12-21T12:43:38.748223Z",
     "start_time": "2020-12-21T12:43:36.866731Z"
    },
    "scrolled": false
   },
   "outputs": [
    {
     "name": "stdout",
     "output_type": "stream",
     "text": [
      "Requirement already satisfied: selenium in c:\\users\\sung\\appdata\\local\\programs\\python\\python38\\lib\\site-packages (3.141.0)\n",
      "Requirement already satisfied: urllib3 in c:\\users\\sung\\appdata\\local\\programs\\python\\python38\\lib\\site-packages (from selenium) (1.25.10)\n"
     ]
    }
   ],
   "source": [
    "# Install Libraries \n",
    "!pip install selenium --trusted-host pypi.python.org --trusted-host files.pythonhosted.org --trusted-host pypi.org"
   ]
  },
  {
   "cell_type": "code",
   "execution_count": 19,
   "metadata": {
    "ExecuteTime": {
     "end_time": "2020-12-22T02:47:22.270574Z",
     "start_time": "2020-12-22T02:47:18.599539Z"
    }
   },
   "outputs": [],
   "source": [
    "#####################################\n",
    "# 주유쇼 관련 정보 가져오기 \n",
    "#####################################\n",
    "# opinet - 유가정보 제공 | 한국석유공사 \n",
    "# https://www.opinet.co.kr/\n",
    "\n",
    "\n",
    "#####################################\n",
    "# Chrome Driver 설치 \n",
    "#####################################\n",
    "# Chrome 버전 확인 \n",
    "# 설정 - Chrome - Chrome 정보 - Chrome 버젼 확인 \n",
    "# 버전 87.0.4280.88(공식 빌드) (64비트) -> version 87\n",
    "\n",
    "# Chrome Driver 설치 \n",
    "# https://chromedriver.chromium.org/downloads\n",
    "# https://chromedriver.storage.googleapis.com/index.html?path=87.0.4280.88/ (87 version 설치)\n",
    "\n",
    "# OS (Operating System, 운영체제) 확인 \n",
    "# linux - chromedriver_linux64.zip\t# mac - chromedriver_mac64.zip\t# windows - chromedriver_win32.zip\n",
    "# Chrome Driver 설치 경로 확인 - ex. C:\\Users\\Sung\\Downloads\n",
    "\n",
    "#####################################\n",
    "# 오피넷 접속 \n",
    "#####################################\n",
    "from selenium import webdriver\n",
    "driver = webdriver.Chrome(\"C:/Users/Sung/Downloads/chromedriver.exe\")\n",
    "driver.get(\"http://www.opinet.co.kr\")\n",
    "\n",
    "#####################################\n",
    "# headless option  \n",
    "#####################################\n",
    "# from selenium import webdriver\n",
    "# options = webdriver.ChromeOptions()\n",
    "# options.add_argument('headless')\n",
    "# options.add_argument('window-size=1920x1080')\n",
    "# options.add_argument(\"disable-gpu\")\n",
    "# driver = webdriver.Chrome(\"C:/Users/Sung/Downloads/chromedriver.exe\", options = options)\n",
    "# print (\"Headless Chrome Initialized\")\n",
    "# params = {'behavior': 'allow', 'downloadPath': r'C:\\Users\\Sung\\Downloads'}\n",
    "# driver.execute_cdp_cmd('Page.setDownloadBehavior', params)\n",
    "# driver.get(\"http://www.opinet.co.kr\") #오피넷 접속"
   ]
  },
  {
   "cell_type": "code",
   "execution_count": 33,
   "metadata": {
    "ExecuteTime": {
     "end_time": "2020-12-22T06:23:20.820806Z",
     "start_time": "2020-12-22T06:23:20.796807Z"
    }
   },
   "outputs": [],
   "source": [
    "#####################################\n",
    "# 웹페이지 section 별 접근경로\n",
    "##################################### \n",
    "# javascript 로 실행 \n",
    "\n",
    "# # 싼 주유소 찾기 \n",
    "# driver.execute_script(\"return goSubPage(0,0,99)\") # 싼 주유소 찾기 - 지역별  \n",
    "# driver.execute_script(\"return goSubPage(0,1,99)\") # 싼 주유소 찾기 - 경로별\n",
    "# driver.execute_script(\"return goSubPage(0,2,99)\") # 싼 주유소 찾기 - 도로별 \n",
    "# driver.execute_script(\"return goSubPage(0,3,99)\") # 싼 주유소 찾기 - 면세유 \n",
    "\n",
    "# # 국내유가통계\n",
    "# driver.execute_script(\"return goSubPage(1,0,0)\") # 국내유가통계 - 주유소 - 평균판매가격 \n",
    "# driver.execute_script(\"return goSubPage(1,0,1)\") # 국내유가통계 - 주유소 - 면세유평균가격\n",
    "# driver.execute_script(\"return goSubPage(1,1,99)\") # 국내유가통계 - 자동차/충전소 \n",
    "# driver.execute_script(\"return goSubPage(1,2,99)\") # 국내유가통계 - 유가 내려받기 \n",
    "# driver.execute_script(\"return goSubPage(1,3,0)\") # 국내유가통계 - 주간공급가격\n",
    "# driver.execute_script(\"return goSubPage(1,3,1)\") # 국내유가통계 - 월간판매가격\n",
    "# driver.execute_script(\"return goSubPage(1,4,99)\") # 국내유가통계 - 대리점\n",
    "# driver.execute_script(\"return goSubPage(1,5,99)\") # 국내유가통계 - LPG 용기충전소\n",
    "# driver.execute_script(\"return goSubPage(1,6,99)\") # 국내유가통계 - LPG 용기판매소 \n",
    "# driver.execute_script(\"return goSubPage(1,7,99)\") # 국내유가통계 - LPG 집단공급\n",
    "\n",
    "# # 유가관련정보\n",
    "# driver.execute_script(\"return goSubPage(2,0,99)\") # 유가관련정보 - 국내유가동향\n",
    "# driver.execute_script(\"return goSubPage(2,1,0)\") # 유가관련정보 - 원유\n",
    "# driver.execute_script(\"return goSubPage(2,1,1)\") # 유가관련정보 - 석유제품\n",
    "# driver.execute_script(\"return goSubPage(2,1,2)\") # 유가관련정보 - OECD\n",
    "# driver.execute_script(\"return goSubPage(2,2,99)\") # 유가관련정보 - 전자상거래\n",
    "# driver.execute_script(\"return goSubPage(2,3,99)\") # 유가관련정보 - 유류세\n",
    "# driver.execute_script(\"return goSubPage(2,4,99)\") # 유가관련정보 - 단위환산표\n",
    "# driver.execute_script(\"return goSubPage(2,5,99)\") # 유가관련정보 - 유가정보 API\n",
    "\n",
    "# # 불법행위공표\n",
    "# driver.execute_script(\"return goSubPage(3,0,99)\") # 불법행위공표 - 불법행위공표사항 \n",
    "# driver.execute_script(\"return goSubPage(3,1,99)\") # 불법행위공표 - 공표취소사항\n",
    "\n",
    "# # 이용안내\n",
    "# driver.execute_script(\"return goSubPage(4,0,0)\") # 이용안내 - 오피넷이란\n",
    "# driver.execute_script(\"return goSubPage(4,0,1)\") # 이용안내 - 가격조사 및 공개기준\n",
    "# driver.execute_script(\"return goSubPage(4,1,99)\") # 이용안내 - 공지사항\n",
    "# driver.execute_script(\"return goSubPage(4,2,99)\") # 이용안내 - 오피넷 스타트업 \n",
    "# driver.execute_script(\"return goSubPage(4,3,99)\") # 이용안내 - 자주묻는질문\n",
    "# driver.execute_script(\"return goSubPage(4,4,99)\") # 이용안내 - 사이트맵"
   ]
  },
  {
   "cell_type": "code",
   "execution_count": 26,
   "metadata": {
    "ExecuteTime": {
     "end_time": "2020-12-22T02:48:28.741446Z",
     "start_time": "2020-12-22T02:48:28.722445Z"
    }
   },
   "outputs": [],
   "source": [
    "#####################################\n",
    "# 싼 주유소 찾기 - 지역별  \n",
    "##################################### \n",
    "# http://www.opinet.co.kr/searRgSelect.do -> 작동 안함, javascript 로 막음 \n",
    "driver.execute_script(\"return goSubPage(0,0,99)\")"
   ]
  },
  {
   "cell_type": "code",
   "execution_count": 21,
   "metadata": {
    "ExecuteTime": {
     "end_time": "2020-12-22T02:47:30.024390Z",
     "start_time": "2020-12-22T02:47:27.820373Z"
    }
   },
   "outputs": [],
   "source": [
    "#####################################\n",
    "# 싼 주유소 찾기 - 지역별 \n",
    "# 지역 - 시군구 선택 list 가져오기\n",
    "##################################### \n",
    "\n",
    "# <select style =\"width:62px;\" id =\"SIDO_NM0\" name= \"SIDO_NM0\"> == $0\n",
    "#     <option value> 시/도 </option>\n",
    "#     <option value =\"서울특별시\" selected = \"selected\"> 서울 </option>\n",
    "#     <option value =\"부산광역시\"> 부산 </option>\n",
    "#     <option value =\"대구광역시\"> 대구 </option>\n",
    "#     <option value =\"인천광역시\"> 인천 </option>\n",
    "#     <option value =\"광주광역시\"> 광주 </option>\n",
    "#     <option value =\"대전광역시\"> 대전 </option> ........ 등 \n",
    "    \n",
    "si_list_raw = driver.find_element_by_css_selector('#SIDO_NM0') # '시/도'이름 가져오기 #SIDO_NM0\n",
    "si_list = si_list_raw.find_elements_by_tag_name(\"option\") # 하위 option tag \n",
    "si_names = [option.get_attribute(\"value\") for option in si_list] # '시/도'이름 가져오기 \n",
    "si_names.remove('') # si_names_list에서 ''제거 \n",
    "# si_names # '서울특별시','부산광역시','대구광역시','인천광역시','광주광역시','대전광역시' 등 \n",
    "\n",
    "# <select style =\"width:62px;\" id =\"SIGUNGU_NM0\" name= \"SIGUNGU_NM0\"> == $0\n",
    "#     <option value> 시/군/도 </option>\n",
    "#     <option value =\"강남구\" selected = \"selected\"> 강남구 </option>\n",
    "#     <option value =\"강동구\"> 강동구 </option>\n",
    "#     <option value =\"강북구\"> 강북구 </option>\n",
    "#     <option value =\"강서구\"> 강서구 </option>\n",
    "#     <option value =\"관악구\"> 관악구 </option>\n",
    "#     <option value =\"광진구\"> 광진구 </option> ........ 등 \n",
    "gu_list_raw = driver.find_element_by_css_selector(\"#SIGUNGU_NM0\") # '시/군/구'이름 가져오기 #SIDO_NM0\n",
    "gu_list = gu_list_raw.find_elements_by_tag_name(\"option\") # 하위 option tag \n",
    "gu_names = [option.get_attribute(\"value\") for option in gu_list] # 군구 \n",
    "gu_names.remove('')\n",
    "# gu_names # 시가 서울특별시일때 , '강남구','강동구','강북구','강서구' 등 "
   ]
  },
  {
   "cell_type": "code",
   "execution_count": 32,
   "metadata": {
    "ExecuteTime": {
     "end_time": "2020-12-22T02:55:20.604863Z",
     "start_time": "2020-12-22T02:55:20.590862Z"
    }
   },
   "outputs": [],
   "source": [
    "#####################################\n",
    "# 싼 주유소 찾기 - 지역별 \n",
    "# 형태 및 부가정보 click test \n",
    "##################################### \n",
    "# 충전소 section 선택 \n",
    "# repair = driver.find_element_by_css_selector('#LPG_BTN').click() # 충전소 선택 \n",
    "\n",
    "# 형태 click\n",
    "# self_n = driver.find_element_by_css_selector('#NORM_YN').click() # 일반 선택 \n",
    "# self_y = driver.find_element_by_css_selector('#SELF_DIV_CD').click() # 셀프 선택 \n",
    "# fake = driver.find_element_by_css_selector('#VLT_YN').click() # 불법 선택 \n",
    "# auth = driver.find_element_by_css_selector('#KPETRO_YN').click() # 인증 선택 \n",
    "# pos = driver.find_element_by_css_selector('#KPETRO_DP_YN').click() # 전산 선택 \n",
    "\n",
    "# 부가정보 click \n",
    "# car_wash = driver.find_element_by_css_selector('#CWSH_YN').click() # 세차장 선택 \n",
    "# repair = driver.find_element_by_css_selector('#MAINT_YN').click() # 경정비 선택\n",
    "# conv_store = driver.find_element_by_css_selector('#CVS_YN').click() # 편의점 선택 \n",
    "# all247 = driver.find_element_by_css_selector('#SEL24_YN').click() # 24시간 선택 "
   ]
  },
  {
   "cell_type": "code",
   "execution_count": 31,
   "metadata": {
    "ExecuteTime": {
     "end_time": "2020-12-22T02:54:20.372572Z",
     "start_time": "2020-12-22T02:54:19.557994Z"
    }
   },
   "outputs": [],
   "source": [
    "#####################################\n",
    "# 싼 주유소 찾기 - 지역별 \n",
    "# 조회 버튼 및 엑셀 저장\n",
    "##################################### \n",
    "\n",
    "# 조회 버튼\n",
    "xpath = \"\"\"//*[@id=\"searRgSelect\"]/span\"\"\"\n",
    "element_sel_gu = driver.find_element_by_xpath(xpath).click()\n",
    "\n",
    "# 엑셀 저장\n",
    "xpath = \"\"\"//*[@id=\"glopopd_excel\"]/span\"\"\"\n",
    "element_get_excel = driver.find_element_by_xpath(xpath).click()"
   ]
  }
 ],
 "metadata": {
  "kernelspec": {
   "display_name": "Python 3",
   "language": "python",
   "name": "python3"
  },
  "language_info": {
   "codemirror_mode": {
    "name": "ipython",
    "version": 3
   },
   "file_extension": ".py",
   "mimetype": "text/x-python",
   "name": "python",
   "nbconvert_exporter": "python",
   "pygments_lexer": "ipython3",
   "version": "3.8.0"
  },
  "toc": {
   "base_numbering": 1,
   "nav_menu": {},
   "number_sections": true,
   "sideBar": true,
   "skip_h1_title": false,
   "title_cell": "Table of Contents",
   "title_sidebar": "Contents",
   "toc_cell": false,
   "toc_position": {},
   "toc_section_display": true,
   "toc_window_display": false
  },
  "varInspector": {
   "cols": {
    "lenName": 16,
    "lenType": 16,
    "lenVar": 40
   },
   "kernels_config": {
    "python": {
     "delete_cmd_postfix": "",
     "delete_cmd_prefix": "del ",
     "library": "var_list.py",
     "varRefreshCmd": "print(var_dic_list())"
    },
    "r": {
     "delete_cmd_postfix": ") ",
     "delete_cmd_prefix": "rm(",
     "library": "var_list.r",
     "varRefreshCmd": "cat(var_dic_list()) "
    }
   },
   "types_to_exclude": [
    "module",
    "function",
    "builtin_function_or_method",
    "instance",
    "_Feature"
   ],
   "window_display": false
  }
 },
 "nbformat": 4,
 "nbformat_minor": 1
}